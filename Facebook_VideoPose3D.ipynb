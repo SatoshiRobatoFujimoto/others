{
  "nbformat": 4,
  "nbformat_minor": 0,
  "metadata": {
    "colab": {
      "name": "Facebook VideoPose3D",
      "provenance": [],
      "collapsed_sections": [],
      "toc_visible": true,
      "include_colab_link": true
    },
    "kernelspec": {
      "name": "python3",
      "display_name": "Python 3"
    },
    "accelerator": "GPU"
  },
  "cells": [
    {
      "cell_type": "markdown",
      "metadata": {
        "id": "view-in-github",
        "colab_type": "text"
      },
      "source": [
        "<a href=\"https://colab.research.google.com/github/cedro3/others/blob/master/Facebook_VideoPose3D.ipynb\" target=\"_parent\"><img src=\"https://colab.research.google.com/assets/colab-badge.svg\" alt=\"Open In Colab\"/></a>"
      ]
    },
    {
      "cell_type": "markdown",
      "metadata": {
        "id": "vcUFywJRYlk0"
      },
      "source": [
        "# **Install Pytorch & Caffe2**"
      ]
    },
    {
      "cell_type": "code",
      "metadata": {
        "id": "yBHHFFzAagmJ"
      },
      "source": [
        "!wget https://anaconda.org/pytorch/pytorch/1.2.0/download/linux-64/pytorch-1.2.0-py3.6_cuda10.0.130_cudnn7.6.2_0.tar.bz2\n",
        "!tar xvjf pytorch-1.2.0-py3.6_cuda10.0.130_cudnn7.6.2_0.tar.bz2\n",
        "!cp -r lib/python3.6/site-packages/* /usr/local/lib/python3.6/dist-packages/"
      ],
      "execution_count": null,
      "outputs": []
    },
    {
      "cell_type": "markdown",
      "metadata": {
        "id": "qECOVZuJZM5i"
      },
      "source": [
        "# check if Caffe2 was  build"
      ]
    },
    {
      "cell_type": "code",
      "metadata": {
        "id": "3SQkqTLzbjWC"
      },
      "source": [
        "# To check if Caffe2 build was successful\n",
        "!python -c 'from caffe2.python import core' 2>/dev/null && echo \"Success\" || echo \"Failure\"\n",
        "\n",
        "# To check if Caffe2 GPU build was successful\n",
        "!python -c 'from caffe2.python import workspace; print(workspace.NumCudaDevices())'"
      ],
      "execution_count": null,
      "outputs": []
    },
    {
      "cell_type": "markdown",
      "metadata": {
        "id": "iDxNoOIgZn4y"
      },
      "source": [
        "# Install COCO Dataset "
      ]
    },
    {
      "cell_type": "code",
      "metadata": {
        "id": "PoEjPt55bqix"
      },
      "source": [
        "!apt-get install python-dev\n",
        "!pip install cython\n",
        "!pip install pycocotools\n",
        "!git clone https://github.com/cocodataset/cocoapi.git\n",
        "!cd cocoapi/PythonAPI && make install\n",
        "\n",
        "import os\n",
        "os.environ['COCOAPI'] = \":/content/cocoapi\""
      ],
      "execution_count": null,
      "outputs": []
    },
    {
      "cell_type": "markdown",
      "metadata": {
        "id": "RAVpAn6EZv3b"
      },
      "source": [
        "# Install Detectron"
      ]
    },
    {
      "cell_type": "code",
      "metadata": {
        "id": "kZQYD_SKbw0O"
      },
      "source": [
        "!git clone https://github.com/facebookresearch/detectron\n",
        "!pip install -r detectron/requirements.txt\n",
        "!cd detectron && make\n",
        "!python detectron/detectron/tests/test_spatial_narrow_as_op.py"
      ],
      "execution_count": null,
      "outputs": []
    },
    {
      "cell_type": "markdown",
      "metadata": {
        "id": "FQOxtKmWZ5Ma"
      },
      "source": [
        "# Install VideoPose3D & Copy Video Script to Detectron Tools Folder"
      ]
    },
    {
      "cell_type": "code",
      "metadata": {
        "id": "6vRI4Rn3js85"
      },
      "source": [
        "#copy file from VideoPose3d\n",
        "!git clone https://github.com/facebookresearch/VideoPose3D\n",
        "!cp VideoPose3D/inference/infer_video.py detectron/tools/infer_video.py"
      ],
      "execution_count": null,
      "outputs": []
    },
    {
      "cell_type": "markdown",
      "metadata": {
        "id": "GSDS81gsaNex"
      },
      "source": [
        "# Download Pretrained Human3.6m Coco Model"
      ]
    },
    {
      "cell_type": "code",
      "metadata": {
        "id": "av6RLcyPmuSH"
      },
      "source": [
        "!mkdir VideoPose3D/checkpoint\n",
        "os.chdir('VideoPose3D/checkpoint')\n",
        "!wget https://dl.fbaipublicfiles.com/video-pose-3d/pretrained_h36m_detectron_coco.bin\n",
        "os.chdir('../..')"
      ],
      "execution_count": null,
      "outputs": []
    },
    {
      "cell_type": "markdown",
      "metadata": {
        "id": "popZ3evNaffh"
      },
      "source": [
        "# Download Youtube Video for 3D Pose Estimation (specify YOUTUBE_ID)"
      ]
    },
    {
      "cell_type": "code",
      "metadata": {
        "id": "rDq3zWIfTCaj"
      },
      "source": [
        "YOUTUBE_ID ='cgHZJiyWKIY'\n",
        "\n",
        "\n",
        "!pip install -q youtube-dl\n",
        "#download video\n",
        "!youtube-dl -f 'bestvideo[ext=mp4]' --output \"youtube.%(ext)s\" https://www.youtube.com/watch?v=$YOUTUBE_ID\n",
        "\n",
        "!mkdir videos   \n",
        "  \n",
        "# cut the first 5 seconds\n",
        "!ffmpeg -y -loglevel info -i youtube.mp4 -ss 00:00:48 -t 00:00:14 videos/video.mp4\n",
        "\n",
        "# recommendet alternation to 50fps \n",
        "#!ffmpeg -i videos/video.mp4 -filter \"minterpolate='fps=50'\" -crf 0 videos/video50fps.mp4"
      ],
      "execution_count": null,
      "outputs": []
    },
    {
      "cell_type": "markdown",
      "metadata": {
        "id": "2mN3zRgbbKxK"
      },
      "source": [
        "# Compute 2D Coordinates with Detectron"
      ]
    },
    {
      "cell_type": "code",
      "metadata": {
        "id": "8sWe8EnRIxVq"
      },
      "source": [
        "ls"
      ],
      "execution_count": null,
      "outputs": []
    },
    {
      "cell_type": "code",
      "metadata": {
        "id": "2inleQL4Y4qg"
      },
      "source": [
        "!mkdir output\n",
        "!python detectron/tools/infer_video.py \\\n",
        "    --cfg detectron/configs/12_2017_baselines/e2e_keypoint_rcnn_R-101-FPN_s1x.yaml \\\n",
        "    --output-dir output \\\n",
        "    --image-ext mp4 \\\n",
        "    --wts https://dl.fbaipublicfiles.com/detectron/37698009/12_2017_baselines/e2e_keypoint_rcnn_R-101-FPN_s1x.yaml.08_45_57.YkrJgP6O/output/train/keypoints_coco_2014_train:keypoints_coco_2014_valminusminival/generalized_rcnn/model_final.pkl \\\n",
        "   videos\n",
        "    \n",
        "#\t  --wts https://dl.fbaipublicfiles.com/detectron/37698009/12_2017_baselines/e2e_keypoint_rcnn_R-101-FPN_s1x.yaml.08_45_57.YkrJgP6O/output/train/keypoints_coco_2014_train:keypoints_coco_2014_valminusminival/generalized_rcnn/model_final.pkl \\\n",
        "\n",
        "    "
      ],
      "execution_count": null,
      "outputs": []
    },
    {
      "cell_type": "markdown",
      "metadata": {
        "id": "lkedL1VTb_go"
      },
      "source": [
        "# Prepare Detectron Output to fit VideoPose3D Input"
      ]
    },
    {
      "cell_type": "code",
      "metadata": {
        "id": "QHrkZReqb2er"
      },
      "source": [
        "\n",
        "!mkdir ./VideoPose3D/data/detectronoutput\n",
        "!cp output/video.mp4.npz VideoPose3D/data/detectronoutput/video.mp4.npz\n",
        "os.chdir('VideoPose3D/data') # This script must be launched from the \"data\" directory\n",
        "!python prepare_data_2d_custom.py -i detectronoutput -o myvideos\n",
        "os.chdir('../../')"
      ],
      "execution_count": null,
      "outputs": []
    },
    {
      "cell_type": "markdown",
      "metadata": {
        "id": "ktOkXbNbbiH4"
      },
      "source": [
        "# Compute 3D Joints with VideoPose3D"
      ]
    },
    {
      "cell_type": "code",
      "metadata": {
        "id": "J7Kp5czTfdRZ"
      },
      "source": [
        "#os.chdir('../')\n",
        "\n",
        "#os.chdir('checkpoint')\n",
        "#!wget https://dl.fbaipublicfiles.com/video-pose-3d/pretrained_h36m_cpn.bin\n",
        "##!wget https://dl.fbaipublicfiles.com/video-pose-3d/d-pt-243.bin\n",
        "\n",
        "!cp ./videos/video.mp4 VideoPose3D/video.mp4\n",
        "os.chdir('VideoPose3D')\n",
        "\n",
        "\n",
        "#!python run.py -d custom -k MyCustomDatasetName -arc 3,3,3,3,3 -c checkpoint --evaluate pretrained_h36m_detectron_coco.bin --render --viz-subject S1 --viz-action custom --viz-camera 0 --viz-export My3dDataExport --viz-size 6\n",
        "#!python run.py -d custom -k MyCustomDatasetName -arc 3,3,3,3,3 -c checkpoint --evaluate pretrained_h36m_detectron_coco.bin --render --viz-subject  video.mp4 --viz-action custom --viz-camera 0 --viz-video video.mp4 --viz-output output.mp4 --viz-size 6\n",
        "\n",
        "#!python run.py -e 80 -k gt -arc 3,3,3,3,3\n",
        "\n",
        "\n",
        "#!python run.py -d custom -k myvideos -arc 3,3,3,3,3 -c checkpoint --evaluate pretrained_h36m_detectron_coco.bin --viz-export My3dDataExport\n",
        "\n",
        "#!python run.py -d custom -k myvideos -arc 3,3,3,3,3 -c checkpoint --evaluate d-pt-243.bin --render --viz-subject video.mp4 --viz-action Directions --viz-video video.mp4 --viz-camera 0 --viz-output output_scater.mp4 --viz-size 5 --viz-downsample 1 --viz-skip 9\n",
        "\n",
        "#!python run.py -d custom -k myvideos -arc 3,3,3,3,3 -c checkpoint --evaluate pretrained_h36m_detectron_coco.bin --render --viz-subject video.mp4 --viz-action custom --viz-camera 0 --viz-video video.mp4 --viz-output output.mp4 --viz-size 6\n",
        "!python run.py -d custom -k myvideos -arc 3,3,3,3,3 -c checkpoint --evaluate pretrained_h36m_detectron_coco.bin --render --viz-subject video.mp4 --viz-action custom --viz-camera 0 --viz-video video.mp4 --viz-output output.mp4 --viz-export outputfile --viz-size 6\n",
        "\n",
        "#working version \n",
        "#!python run.py -k gt -arc 3,3,3,3,3 -c checkpoint --evaluate pretrained_h36m_cpn.bin --viz-export My3dDataExport --viz-output output.mp4"
      ],
      "execution_count": null,
      "outputs": []
    },
    {
      "cell_type": "markdown",
      "metadata": {
        "id": "Vd_nbXLfcJzY"
      },
      "source": [
        "# Display Results - Joint Export "
      ]
    },
    {
      "cell_type": "code",
      "metadata": {
        "id": "mwHtOf9EE3Lg"
      },
      "source": [
        "#inspect joints export \n",
        "\n",
        "import numpy as np\n",
        "data  = np.load('outputfile.npy')\n",
        "lst = data\n",
        "for item in lst:\n",
        "    print(item)\n",
        "    \n"
      ],
      "execution_count": null,
      "outputs": []
    },
    {
      "cell_type": "markdown",
      "metadata": {
        "id": "wjDTuELfcVuZ"
      },
      "source": [
        "# Display Results - Joint Video"
      ]
    },
    {
      "cell_type": "code",
      "metadata": {
        "id": "rbImoAtIRxdu"
      },
      "source": [
        "#display video\n",
        "def show_local_mp4_video(file_name, width=640, height=480):\n",
        "  import io\n",
        "  import base64\n",
        "  from IPython.display import HTML\n",
        "  video_encoded = base64.b64encode(io.open(file_name, 'rb').read())\n",
        "  return HTML(data='''<video width=\"{0}\" height=\"{1}\" alt=\"test\" controls>\n",
        "                        <source src=\"data:video/mp4;base64,{2}\" type=\"video/mp4\" />\n",
        "                      </video>'''.format(width, height, video_encoded.decode('ascii')))\n",
        "\n",
        "show_local_mp4_video('output.mp4', width=960, height=720)"
      ],
      "execution_count": null,
      "outputs": []
    },
    {
      "cell_type": "markdown",
      "metadata": {
        "id": "Yhw2Pe_HceM7"
      },
      "source": [
        "#Download Joint Export & Video"
      ]
    },
    {
      "cell_type": "code",
      "metadata": {
        "id": "Ljh6cuahb7kW"
      },
      "source": [
        "from google.colab import files\n",
        "\n",
        "\n",
        "files.download('output.mp4')\n",
        "files.download('outputfile.npy')"
      ],
      "execution_count": null,
      "outputs": []
    }
  ]
}